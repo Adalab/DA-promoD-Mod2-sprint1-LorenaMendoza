{
 "cells": [
  {
   "attachments": {},
   "cell_type": "markdown",
   "metadata": {},
   "source": [
    "## EVALUACIÓN SPRINT 1 - MODULO 2: NUMPY "
   ]
  },
  {
   "attachments": {},
   "cell_type": "markdown",
   "metadata": {},
   "source": [
    "#### Ejercicios de NumPy"
   ]
  },
  {
   "cell_type": "code",
   "execution_count": 4,
   "metadata": {},
   "outputs": [],
   "source": [
    "# 1. Importa la librería de NumPy\n",
    "\n",
    "import numpy as np"
   ]
  },
  {
   "cell_type": "code",
   "execution_count": 2,
   "metadata": {},
   "outputs": [
    {
     "data": {
      "text/plain": [
       "array([0, 1, 2, 3, 4, 5, 6, 7, 8, 9])"
      ]
     },
     "execution_count": 2,
     "metadata": {},
     "output_type": "execute_result"
    }
   ],
   "source": [
    "# 2. Crea un array de 1 dimension y 10 elementos.\n",
    "array_dimension1 = np.arange(10)\n",
    "array_dimension1"
   ]
  },
  {
   "cell_type": "code",
   "execution_count": 4,
   "metadata": {},
   "outputs": [
    {
     "data": {
      "text/plain": [
       "array([None, None, None, None, None, None, None, None, None, None],\n",
       "      dtype=object)"
      ]
     },
     "execution_count": 4,
     "metadata": {},
     "output_type": "execute_result"
    }
   ],
   "source": [
    "array_vacio_d1 = np.empty_like(array_dimension1, dtype = object)\n",
    "array_vacio_d1"
   ]
  },
  {
   "cell_type": "code",
   "execution_count": 5,
   "metadata": {},
   "outputs": [
    {
     "data": {
      "text/plain": [
       "array(['par', 'impar', 'par', 'impar', 'par', 'impar', 'par', 'impar',\n",
       "       'par', 'impar'], dtype=object)"
      ]
     },
     "execution_count": 5,
     "metadata": {},
     "output_type": "execute_result"
    }
   ],
   "source": [
    "# 3. Reemplaza todos los números impares por el valor \"impar\" y los pares por \"par\". \n",
    "# Para hacer esto os tendréis que crear un array nuevo donde vayáis añadiendo los valores nuevos.\n",
    "\n",
    "contador = 0\n",
    "\n",
    "for elemento in array_dimension1:\n",
    "    if elemento % 2 == 0:\n",
    "        array_vacio_d1[contador] = \"par\"\n",
    "        contador += 1\n",
    "    else:\n",
    "        array_vacio_d1[contador] = \"impar\"\n",
    "        contador += 1\n",
    "\n",
    "array_vacio_d1"
   ]
  },
  {
   "cell_type": "code",
   "execution_count": 6,
   "metadata": {},
   "outputs": [
    {
     "data": {
      "text/plain": [
       "array([['par', 'impar', 'par', 'impar', 'par'],\n",
       "       ['impar', 'par', 'impar', 'par', 'impar']], dtype=object)"
      ]
     },
     "execution_count": 6,
     "metadata": {},
     "output_type": "execute_result"
    }
   ],
   "source": [
    "#4. Cambiad la forma del array del ejercicio 3 a un array de 2 filas y 5 columnas.\n",
    "   \n",
    "array_nueva_ndim = np.reshape(array_vacio_d1, (2,5))\n",
    "array_nueva_ndim"
   ]
  },
  {
   "cell_type": "code",
   "execution_count": 11,
   "metadata": {},
   "outputs": [],
   "source": [
    "# 5. Extrae los elementos comunes de los siguientes arrays\n",
    "\n",
    "array1 = np.array([1,2,3,2,3,4,3,4,5,6])\n",
    "array2 = np.array([7,2,10,2,7,4,9,4,9,8])"
   ]
  },
  {
   "cell_type": "code",
   "execution_count": 55,
   "metadata": {},
   "outputs": [
    {
     "data": {
      "text/plain": [
       "array([2, 4])"
      ]
     },
     "execution_count": 55,
     "metadata": {},
     "output_type": "execute_result"
    }
   ],
   "source": [
    "#Para exraer los elementos comunes de estos dos arrays utilizamos el método np.intersect1d(), que nos permite obtener los elementos comunes.\n",
    "#El resultado es un array con los valores únicos de la intersección de ambos array.\n",
    "np.intersect1d(array1,array2)"
   ]
  },
  {
   "cell_type": "code",
   "execution_count": 56,
   "metadata": {},
   "outputs": [
    {
     "data": {
      "text/plain": [
       "array([1, 3, 5, 6])"
      ]
     },
     "execution_count": 56,
     "metadata": {},
     "output_type": "execute_result"
    }
   ],
   "source": [
    "#  6. Extraed los elementos que están en el array1 pero no en el array2.\n",
    "\n",
    "# Para solucionar este ejercicio necesitamos utilizar el método setdiff1d(). \n",
    "# El orden aquí es importante y por ello ponemos en primera posición el array del que queremos sacar los elementos únicos en comparación con el otro\n",
    "\n",
    "np.setdiff1d(array1, array2)\n"
   ]
  },
  {
   "cell_type": "code",
   "execution_count": 65,
   "metadata": {},
   "outputs": [
    {
     "data": {
      "text/plain": [
       "(array([2, 4]), array([1, 5]), array([1, 5]))"
      ]
     },
     "execution_count": 65,
     "metadata": {},
     "output_type": "execute_result"
    }
   ],
   "source": [
    "# 7. Extraed las posiciones donde tengamos elementos que sean iguales.\n",
    "\n",
    "#De nuevo, como tenemos que sacar los elementos iguales en ambos array, aplicamos el mét intersect1d().\n",
    "# A este le añadimos el parámetro return_indices = True, que nos permite obtener dos array más en el resultado, \n",
    "# con los índices correspondientes a las posiciones de los elementos comunes en el array\n",
    "\n",
    "np.intersect1d(array1, array2, return_indices=True)"
   ]
  },
  {
   "cell_type": "code",
   "execution_count": 67,
   "metadata": {},
   "outputs": [
    {
     "data": {
      "text/plain": [
       "array([[ 0, 36, 23, 42, 45],\n",
       "       [16, 39, 18, 38, 36],\n",
       "       [32, 29, 16, 30, 26]])"
      ]
     },
     "execution_count": 67,
     "metadata": {},
     "output_type": "execute_result"
    }
   ],
   "source": [
    "#8. Cread un array de 3 filas y 5 columnas, con números enteros del 0 al 50. \n",
    "\n",
    "array_nuevo = np.random.randint(0,50, (3,5))\n",
    "array_nuevo"
   ]
  },
  {
   "cell_type": "code",
   "execution_count": 71,
   "metadata": {},
   "outputs": [
    {
     "data": {
      "text/plain": [
       "array([ 0, 42, 45])"
      ]
     },
     "execution_count": 71,
     "metadata": {},
     "output_type": "execute_result"
    }
   ],
   "source": [
    "# Una vez creado, extraemos los valores que sean menores que 10 y mayores que 40.\n",
    "\n",
    "array_nuevo[(array_nuevo < 10) | (array_nuevo > 40)]"
   ]
  },
  {
   "cell_type": "code",
   "execution_count": 79,
   "metadata": {},
   "outputs": [
    {
     "data": {
      "text/plain": [
       "array([[8.39, 8.84, 9.78],\n",
       "       [9.82, 5.52, 6.38],\n",
       "       [8.55, 9.68, 9.21],\n",
       "       [6.64, 5.2 , 6.31],\n",
       "       [9.15, 7.51, 9.29]])"
      ]
     },
     "execution_count": 79,
     "metadata": {},
     "output_type": "execute_result"
    }
   ],
   "source": [
    "# 9.  Cread un array de 5x3 con números decimales aleatorios entre el 5 y el 10.\n",
    " \n",
    "array_decimales = np.random.uniform(low=5, high=10, size=(5,3)).round(2)\n",
    "array_decimales"
   ]
  },
  {
   "cell_type": "code",
   "execution_count": 80,
   "metadata": {},
   "outputs": [
    {
     "data": {
      "text/plain": [
       "array([[[13,  6,  7,  7, 16,  4, 15],\n",
       "        [ 6, 11, 15,  8, 17,  3,  7],\n",
       "        [ 7,  5,  8, 11,  1, 10,  9],\n",
       "        [18, 13, 16,  6,  8, 16,  5]],\n",
       "\n",
       "       [[ 1,  9,  2,  6, 10,  5,  8],\n",
       "        [ 7, 12, 12,  2,  5,  5, 19],\n",
       "        [11,  2,  3,  3,  1, 19,  5],\n",
       "        [18, 14,  3, 16,  8, 19,  1]]])"
      ]
     },
     "execution_count": 80,
     "metadata": {},
     "output_type": "execute_result"
    }
   ],
   "source": [
    "# 10. Crea un array de tres dimensiones de 2x4x7 con números entre el 1 y el 20\n",
    "\n",
    "array_dim3 = np.random.randint(1,20, (2,4,7))\n",
    "array_dim3"
   ]
  },
  {
   "cell_type": "code",
   "execution_count": 84,
   "metadata": {},
   "outputs": [
    {
     "data": {
      "text/plain": [
       "array([[[13,  1],\n",
       "        [ 6,  9],\n",
       "        [ 7,  2],\n",
       "        [ 7,  6],\n",
       "        [16, 10],\n",
       "        [ 4,  5],\n",
       "        [15,  8]],\n",
       "\n",
       "       [[ 6,  7],\n",
       "        [11, 12],\n",
       "        [15, 12],\n",
       "        [ 8,  2],\n",
       "        [17,  5],\n",
       "        [ 3,  5],\n",
       "        [ 7, 19]],\n",
       "\n",
       "       [[ 7, 11],\n",
       "        [ 5,  2],\n",
       "        [ 8,  3],\n",
       "        [11,  3],\n",
       "        [ 1,  1],\n",
       "        [10, 19],\n",
       "        [ 9,  5]],\n",
       "\n",
       "       [[18, 18],\n",
       "        [13, 14],\n",
       "        [16,  3],\n",
       "        [ 6, 16],\n",
       "        [ 8,  8],\n",
       "        [16, 19],\n",
       "        [ 5,  1]]])"
      ]
     },
     "execution_count": 84,
     "metadata": {},
     "output_type": "execute_result"
    }
   ],
   "source": [
    "# Transponemos el array para que tenga 4 matrices, 7 filas y 2 columnas.\n",
    "array_dim3_transpuesto = np.transpose (array_dim3, (1, 2,0))\n",
    "array_dim3_transpuesto"
   ]
  }
 ],
 "metadata": {
  "kernelspec": {
   "display_name": "adalabenv",
   "language": "python",
   "name": "python3"
  },
  "language_info": {
   "codemirror_mode": {
    "name": "ipython",
    "version": 3
   },
   "file_extension": ".py",
   "mimetype": "text/x-python",
   "name": "python",
   "nbconvert_exporter": "python",
   "pygments_lexer": "ipython3",
   "version": "3.10.9"
  },
  "orig_nbformat": 4,
  "vscode": {
   "interpreter": {
    "hash": "0b8bbabd87d3ce636409443d1398e5656bf795e33c753b5e821c4b969f4e6c41"
   }
  }
 },
 "nbformat": 4,
 "nbformat_minor": 2
}
